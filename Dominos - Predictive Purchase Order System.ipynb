{
 "cells": [
  {
   "cell_type": "code",
   "execution_count": 74,
   "id": "c0cac0ea",
   "metadata": {},
   "outputs": [],
   "source": [
    "import pandas as pd\n",
    "import numpy as np\n",
    "import matplotlib.pyplot as plt\n",
    "import seaborn as sns\n",
    "import warnings\n",
    "warnings.filterwarnings('ignore')"
   ]
  },
  {
   "cell_type": "code",
   "execution_count": 75,
   "id": "eccb8221",
   "metadata": {},
   "outputs": [],
   "source": [
    "pizza_df = pd.read_csv(r\"C:\\Users\\LENOVO\\Desktop\\Data_science_guvi\\projects\\Dominos Predictive Purchase Order System\\Pizza_Sale - pizza_sales.csv\")\n",
    "ingred_df = pd.read_csv(r\"C:\\Users\\LENOVO\\Desktop\\Data_science_guvi\\projects\\Dominos Predictive Purchase Order System\\Pizza_ingredients - Pizza_ingredients.csv\")"
   ]
  },
  {
   "cell_type": "code",
   "execution_count": 76,
   "id": "56c5a568",
   "metadata": {},
   "outputs": [
    {
     "data": {
      "text/html": [
       "<div>\n",
       "<style scoped>\n",
       "    .dataframe tbody tr th:only-of-type {\n",
       "        vertical-align: middle;\n",
       "    }\n",
       "\n",
       "    .dataframe tbody tr th {\n",
       "        vertical-align: top;\n",
       "    }\n",
       "\n",
       "    .dataframe thead th {\n",
       "        text-align: right;\n",
       "    }\n",
       "</style>\n",
       "<table border=\"1\" class=\"dataframe\">\n",
       "  <thead>\n",
       "    <tr style=\"text-align: right;\">\n",
       "      <th></th>\n",
       "      <th>pizza_id</th>\n",
       "      <th>order_id</th>\n",
       "      <th>pizza_name_id</th>\n",
       "      <th>quantity</th>\n",
       "      <th>order_date</th>\n",
       "      <th>order_time</th>\n",
       "      <th>unit_price</th>\n",
       "      <th>total_price</th>\n",
       "      <th>pizza_size</th>\n",
       "      <th>pizza_category</th>\n",
       "      <th>pizza_ingredients</th>\n",
       "      <th>pizza_name</th>\n",
       "    </tr>\n",
       "  </thead>\n",
       "  <tbody>\n",
       "    <tr>\n",
       "      <th>0</th>\n",
       "      <td>1</td>\n",
       "      <td>1</td>\n",
       "      <td>hawaiian_m</td>\n",
       "      <td>1</td>\n",
       "      <td>1/1/2015</td>\n",
       "      <td>11:38:36</td>\n",
       "      <td>13.25</td>\n",
       "      <td>13.25</td>\n",
       "      <td>M</td>\n",
       "      <td>Classic</td>\n",
       "      <td>Sliced Ham, Pineapple, Mozzarella Cheese</td>\n",
       "      <td>The Hawaiian Pizza</td>\n",
       "    </tr>\n",
       "    <tr>\n",
       "      <th>1</th>\n",
       "      <td>2</td>\n",
       "      <td>2</td>\n",
       "      <td>classic_dlx_m</td>\n",
       "      <td>1</td>\n",
       "      <td>1/1/2015</td>\n",
       "      <td>11:57:40</td>\n",
       "      <td>16.00</td>\n",
       "      <td>16.00</td>\n",
       "      <td>M</td>\n",
       "      <td>Classic</td>\n",
       "      <td>Pepperoni, Mushrooms, Red Onions, Red Peppers,...</td>\n",
       "      <td>The Classic Deluxe Pizza</td>\n",
       "    </tr>\n",
       "    <tr>\n",
       "      <th>2</th>\n",
       "      <td>3</td>\n",
       "      <td>2</td>\n",
       "      <td>five_cheese_l</td>\n",
       "      <td>1</td>\n",
       "      <td>1/1/2015</td>\n",
       "      <td>11:57:40</td>\n",
       "      <td>18.50</td>\n",
       "      <td>18.50</td>\n",
       "      <td>L</td>\n",
       "      <td>Veggie</td>\n",
       "      <td>Mozzarella Cheese, Provolone Cheese, Smoked Go...</td>\n",
       "      <td>The Five Cheese Pizza</td>\n",
       "    </tr>\n",
       "    <tr>\n",
       "      <th>3</th>\n",
       "      <td>4</td>\n",
       "      <td>2</td>\n",
       "      <td>ital_supr_l</td>\n",
       "      <td>1</td>\n",
       "      <td>1/1/2015</td>\n",
       "      <td>11:57:40</td>\n",
       "      <td>20.75</td>\n",
       "      <td>20.75</td>\n",
       "      <td>L</td>\n",
       "      <td>Supreme</td>\n",
       "      <td>Calabrese Salami, Capocollo, Tomatoes, Red Oni...</td>\n",
       "      <td>The Italian Supreme Pizza</td>\n",
       "    </tr>\n",
       "    <tr>\n",
       "      <th>4</th>\n",
       "      <td>5</td>\n",
       "      <td>2</td>\n",
       "      <td>mexicana_m</td>\n",
       "      <td>1</td>\n",
       "      <td>1/1/2015</td>\n",
       "      <td>11:57:40</td>\n",
       "      <td>16.00</td>\n",
       "      <td>16.00</td>\n",
       "      <td>M</td>\n",
       "      <td>Veggie</td>\n",
       "      <td>Tomatoes, Red Peppers, Jalapeno Peppers, Red O...</td>\n",
       "      <td>The Mexicana Pizza</td>\n",
       "    </tr>\n",
       "  </tbody>\n",
       "</table>\n",
       "</div>"
      ],
      "text/plain": [
       "   pizza_id  order_id  pizza_name_id  quantity order_date order_time  \\\n",
       "0         1         1     hawaiian_m         1   1/1/2015   11:38:36   \n",
       "1         2         2  classic_dlx_m         1   1/1/2015   11:57:40   \n",
       "2         3         2  five_cheese_l         1   1/1/2015   11:57:40   \n",
       "3         4         2    ital_supr_l         1   1/1/2015   11:57:40   \n",
       "4         5         2     mexicana_m         1   1/1/2015   11:57:40   \n",
       "\n",
       "   unit_price  total_price pizza_size pizza_category  \\\n",
       "0       13.25        13.25          M        Classic   \n",
       "1       16.00        16.00          M        Classic   \n",
       "2       18.50        18.50          L         Veggie   \n",
       "3       20.75        20.75          L        Supreme   \n",
       "4       16.00        16.00          M         Veggie   \n",
       "\n",
       "                                   pizza_ingredients  \\\n",
       "0           Sliced Ham, Pineapple, Mozzarella Cheese   \n",
       "1  Pepperoni, Mushrooms, Red Onions, Red Peppers,...   \n",
       "2  Mozzarella Cheese, Provolone Cheese, Smoked Go...   \n",
       "3  Calabrese Salami, Capocollo, Tomatoes, Red Oni...   \n",
       "4  Tomatoes, Red Peppers, Jalapeno Peppers, Red O...   \n",
       "\n",
       "                  pizza_name  \n",
       "0         The Hawaiian Pizza  \n",
       "1   The Classic Deluxe Pizza  \n",
       "2      The Five Cheese Pizza  \n",
       "3  The Italian Supreme Pizza  \n",
       "4         The Mexicana Pizza  "
      ]
     },
     "execution_count": 76,
     "metadata": {},
     "output_type": "execute_result"
    }
   ],
   "source": [
    "\n",
    "pizza_df.head()"
   ]
  },
  {
   "cell_type": "code",
   "execution_count": 77,
   "id": "8e6ef417",
   "metadata": {},
   "outputs": [
    {
     "name": "stdout",
     "output_type": "stream",
     "text": [
      "<class 'pandas.core.frame.DataFrame'>\n",
      "RangeIndex: 48620 entries, 0 to 48619\n",
      "Data columns (total 12 columns):\n",
      " #   Column             Non-Null Count  Dtype  \n",
      "---  ------             --------------  -----  \n",
      " 0   pizza_id           48620 non-null  int64  \n",
      " 1   order_id           48620 non-null  int64  \n",
      " 2   pizza_name_id      48604 non-null  object \n",
      " 3   quantity           48620 non-null  int64  \n",
      " 4   order_date         48620 non-null  object \n",
      " 5   order_time         48620 non-null  object \n",
      " 6   unit_price         48620 non-null  float64\n",
      " 7   total_price        48613 non-null  float64\n",
      " 8   pizza_size         48620 non-null  object \n",
      " 9   pizza_category     48597 non-null  object \n",
      " 10  pizza_ingredients  48607 non-null  object \n",
      " 11  pizza_name         48613 non-null  object \n",
      "dtypes: float64(2), int64(3), object(7)\n",
      "memory usage: 4.5+ MB\n"
     ]
    }
   ],
   "source": [
    "pizza_df.info()"
   ]
  },
  {
   "cell_type": "code",
   "execution_count": 78,
   "id": "875a9e09",
   "metadata": {},
   "outputs": [
    {
     "data": {
      "text/plain": [
       "pizza_id              0\n",
       "order_id              0\n",
       "pizza_name_id        16\n",
       "quantity              0\n",
       "order_date            0\n",
       "order_time            0\n",
       "unit_price            0\n",
       "total_price           7\n",
       "pizza_size            0\n",
       "pizza_category       23\n",
       "pizza_ingredients    13\n",
       "pizza_name            7\n",
       "dtype: int64"
      ]
     },
     "execution_count": 78,
     "metadata": {},
     "output_type": "execute_result"
    }
   ],
   "source": [
    "pizza_df.isna().sum()"
   ]
  },
  {
   "cell_type": "code",
   "execution_count": 79,
   "id": "8ea9f338",
   "metadata": {},
   "outputs": [],
   "source": [
    "pizza_df.dropna(inplace=True)"
   ]
  },
  {
   "cell_type": "code",
   "execution_count": 80,
   "id": "b29d57d1",
   "metadata": {},
   "outputs": [
    {
     "data": {
      "text/plain": [
       "pizza_id             0\n",
       "order_id             0\n",
       "pizza_name_id        0\n",
       "quantity             0\n",
       "order_date           0\n",
       "order_time           0\n",
       "unit_price           0\n",
       "total_price          0\n",
       "pizza_size           0\n",
       "pizza_category       0\n",
       "pizza_ingredients    0\n",
       "pizza_name           0\n",
       "dtype: int64"
      ]
     },
     "execution_count": 80,
     "metadata": {},
     "output_type": "execute_result"
    }
   ],
   "source": [
    "pizza_df.isna().sum()"
   ]
  },
  {
   "cell_type": "code",
   "execution_count": 81,
   "id": "3d094211",
   "metadata": {},
   "outputs": [
    {
     "data": {
      "text/plain": [
       "0"
      ]
     },
     "execution_count": 81,
     "metadata": {},
     "output_type": "execute_result"
    }
   ],
   "source": [
    "pizza_df.duplicated().sum()"
   ]
  },
  {
   "cell_type": "code",
   "execution_count": 82,
   "id": "89a75180",
   "metadata": {},
   "outputs": [
    {
     "data": {
      "text/plain": [
       "(48554, 12)"
      ]
     },
     "execution_count": 82,
     "metadata": {},
     "output_type": "execute_result"
    }
   ],
   "source": [
    "pizza_df.shape"
   ]
  },
  {
   "cell_type": "code",
   "execution_count": 83,
   "id": "d8998ecc",
   "metadata": {},
   "outputs": [],
   "source": [
    "def parse_dates(date):\n",
    "    for fmt in ('%d-%m-%Y', '%d/%m/%Y'):\n",
    "        try:\n",
    "            return pd.to_datetime(date, format=fmt)\n",
    "        except ValueError:\n",
    "            pass\n",
    "    raise ValueError(f'no valid date format found for {date}')"
   ]
  },
  {
   "cell_type": "code",
   "execution_count": 84,
   "id": "b341c996",
   "metadata": {},
   "outputs": [],
   "source": [
    "pizza_df['order_date'] = pizza_df['order_date'].apply(parse_dates)"
   ]
  },
  {
   "cell_type": "code",
   "execution_count": 85,
   "id": "1fdb9956",
   "metadata": {},
   "outputs": [
    {
     "data": {
      "text/plain": [
       "0   2015-01-01\n",
       "1   2015-01-01\n",
       "2   2015-01-01\n",
       "3   2015-01-01\n",
       "4   2015-01-01\n",
       "Name: order_date, dtype: datetime64[ns]"
      ]
     },
     "execution_count": 85,
     "metadata": {},
     "output_type": "execute_result"
    }
   ],
   "source": [
    "pizza_df['order_date'].head()"
   ]
  },
  {
   "cell_type": "code",
   "execution_count": 86,
   "id": "1ce4af45",
   "metadata": {},
   "outputs": [
    {
     "data": {
      "image/png": "[encoded data removed]",
      "text/plain": [
       "<Figure size 864x432 with 1 Axes>"
      ]
     },
     "metadata": {
      "needs_background": "light"
     },
     "output_type": "display_data"
    }
   ],
   "source": [
    "# Group by order date and sum the quantity\n",
    "quantity_over_time = pizza_df.groupby('order_date')['quantity'].sum()\n",
    "\n",
    "# Create the plot\n",
    "plt.figure(figsize=(12, 6))\n",
    "plt.plot(quantity_over_time.index, quantity_over_time.values)\n",
    "plt.xlabel('Order Date')\n",
    "plt.ylabel('Quantity Sold')\n",
    "plt.title('Quantity Sold Over Time')\n",
    "plt.grid(True)\n",
    "plt.show()\n"
   ]
  },
  {
   "cell_type": "code",
   "execution_count": 87,
   "id": "5ec0a67d",
   "metadata": {},
   "outputs": [
    {
     "name": "stdout",
     "output_type": "stream",
     "text": [
      "pizza_id                      int64\n",
      "order_id                      int64\n",
      "pizza_name_id                object\n",
      "quantity                      int64\n",
      "order_date           datetime64[ns]\n",
      "order_time                   object\n",
      "unit_price                  float64\n",
      "total_price                 float64\n",
      "pizza_size                   object\n",
      "pizza_category               object\n",
      "pizza_ingredients            object\n",
      "pizza_name                   object\n",
      "dtype: object\n"
     ]
    }
   ],
   "source": [
    "print(pizza_df.dtypes)"
   ]
  },
  {
   "cell_type": "code",
   "execution_count": 90,
   "id": "e804103b",
   "metadata": {
    "scrolled": false
   },
   "outputs": [
    {
     "name": "stdout",
     "output_type": "stream",
     "text": [
      "First 5 rows of the dataset:\n",
      "   pizza_id  order_id  pizza_name_id  quantity order_date order_time  \\\n",
      "0         1         1     hawaiian_m         1 2015-01-01   11:38:36   \n",
      "1         2         2  classic_dlx_m         1 2015-01-01   11:57:40   \n",
      "2         3         2  five_cheese_l         1 2015-01-01   11:57:40   \n",
      "3         4         2    ital_supr_l         1 2015-01-01   11:57:40   \n",
      "4         5         2     mexicana_m         1 2015-01-01   11:57:40   \n",
      "\n",
      "   unit_price  total_price pizza_size pizza_category  \\\n",
      "0       13.25        13.25          M        Classic   \n",
      "1       16.00        16.00          M        Classic   \n",
      "2       18.50        18.50          L         Veggie   \n",
      "3       20.75        20.75          L        Supreme   \n",
      "4       16.00        16.00          M         Veggie   \n",
      "\n",
      "                                   pizza_ingredients  \\\n",
      "0           Sliced Ham, Pineapple, Mozzarella Cheese   \n",
      "1  Pepperoni, Mushrooms, Red Onions, Red Peppers,...   \n",
      "2  Mozzarella Cheese, Provolone Cheese, Smoked Go...   \n",
      "3  Calabrese Salami, Capocollo, Tomatoes, Red Oni...   \n",
      "4  Tomatoes, Red Peppers, Jalapeno Peppers, Red O...   \n",
      "\n",
      "                  pizza_name day_of_week    month  \n",
      "0         The Hawaiian Pizza    Thursday  January  \n",
      "1   The Classic Deluxe Pizza    Thursday  January  \n",
      "2      The Five Cheese Pizza    Thursday  January  \n",
      "3  The Italian Supreme Pizza    Thursday  January  \n",
      "4         The Mexicana Pizza    Thursday  January  \n",
      "\n",
      "Dataset Info:\n",
      "<class 'pandas.core.frame.DataFrame'>\n",
      "Index: 48554 entries, 0 to 48619\n",
      "Data columns (total 14 columns):\n",
      " #   Column             Non-Null Count  Dtype         \n",
      "---  ------             --------------  -----         \n",
      " 0   pizza_id           48554 non-null  int64         \n",
      " 1   order_id           48554 non-null  int64         \n",
      " 2   pizza_name_id      48554 non-null  object        \n",
      " 3   quantity           48554 non-null  int64         \n",
      " 4   order_date         48554 non-null  datetime64[ns]\n",
      " 5   order_time         48554 non-null  object        \n",
      " 6   unit_price         48554 non-null  float64       \n",
      " 7   total_price        48554 non-null  float64       \n",
      " 8   pizza_size         48554 non-null  object        \n",
      " 9   pizza_category     48554 non-null  object        \n",
      " 10  pizza_ingredients  48554 non-null  object        \n",
      " 11  pizza_name         48554 non-null  object        \n",
      " 12  day_of_week        48554 non-null  object        \n",
      " 13  month              48554 non-null  object        \n",
      "dtypes: datetime64[ns](1), float64(2), int64(3), object(8)\n",
      "memory usage: 5.6+ MB\n",
      "None\n",
      "\n",
      "Dataset Description:\n",
      "           pizza_id      order_id      quantity  \\\n",
      "count  48554.000000  48554.000000  48554.000000   \n",
      "mean   24342.866458  10715.733081      1.019648   \n",
      "min        1.000000      1.000000      1.000000   \n",
      "25%    12205.250000   5360.250000      1.000000   \n",
      "50%    24343.500000  10702.000000      1.000000   \n",
      "75%    36481.750000  16107.750000      1.000000   \n",
      "max    48620.000000  21350.000000      4.000000   \n",
      "std    14017.563232   6172.205962      0.143172   \n",
      "\n",
      "                          order_date    unit_price   total_price  \n",
      "count                          48554  48554.000000  48554.000000  \n",
      "mean   2015-06-29 16:49:25.770070272     16.493957     16.821744  \n",
      "min              2015-01-01 00:00:00      9.750000      9.750000  \n",
      "25%              2015-03-31 00:00:00     12.750000     12.750000  \n",
      "50%              2015-06-29 00:00:00     16.500000     16.500000  \n",
      "75%              2015-09-28 00:00:00     20.250000     20.500000  \n",
      "max              2015-12-31 00:00:00     35.950000     83.000000  \n",
      "std                              NaN      3.621876      4.438471  \n",
      "\n",
      "Data Types:\n",
      "pizza_id                      int64\n",
      "order_id                      int64\n",
      "pizza_name_id                object\n",
      "quantity                      int64\n",
      "order_date           datetime64[ns]\n",
      "order_time                   object\n",
      "unit_price                  float64\n",
      "total_price                 float64\n",
      "pizza_size                   object\n",
      "pizza_category               object\n",
      "pizza_ingredients            object\n",
      "pizza_name                   object\n",
      "day_of_week                  object\n",
      "month                        object\n",
      "dtype: object\n"
     ]
    },
    {
     "data": {
      "image/png": "[encoded data removed]",
      "text/plain": [
       "<Figure size 1008x504 with 1 Axes>"
      ]
     },
     "metadata": {
      "needs_background": "light"
     },
     "output_type": "display_data"
    },
    {
     "data": {
      "image/png": "[encoded data removed]",
      "text/plain": [
       "<Figure size 720x432 with 1 Axes>"
      ]
     },
     "metadata": {
      "needs_background": "light"
     },
     "output_type": "display_data"
    },
    {
     "data": {
      "image/png": "[encoded data removed]",
      "text/plain": [
       "<Figure size 720x432 with 1 Axes>"
      ]
     },
     "metadata": {
      "needs_background": "light"
     },
     "output_type": "display_data"
    },
    {
     "data": {
      "image/png": "[encoded data removed]",
      "text/plain": [
       "<Figure size 720x432 with 1 Axes>"
      ]
     },
     "metadata": {
      "needs_background": "light"
     },
     "output_type": "display_data"
    },
    {
     "data": {
      "image/png": "[encoded data removed]",
      "text/plain": [
       "<Figure size 720x432 with 2 Axes>"
      ]
     },
     "metadata": {
      "needs_background": "light"
     },
     "output_type": "display_data"
    }
   ],
   "source": [
    "import pandas as pd\n",
    "import numpy as np\n",
    "import matplotlib.pyplot as plt\n",
    "import seaborn as sns\n",
    "\n",
    "# Load your dataset (ensure the path is correct)\n",
    "# pizza_df = pd.read_csv('path_to_your_data.csv')  # Uncomment and modify as needed\n",
    "\n",
    "# Inspect the data\n",
    "print(\"First 5 rows of the dataset:\")\n",
    "print(pizza_df.head())\n",
    "print(\"\\nDataset Info:\")\n",
    "print(pizza_df.info())\n",
    "print(\"\\nDataset Description:\")\n",
    "print(pizza_df.describe())\n",
    "\n",
    "\n",
    "\n",
    "# Data types\n",
    "print(\"\\nData Types:\")\n",
    "print(pizza_df.dtypes)\n",
    "\n",
    "\n",
    "\n",
    "\n",
    "# Add new features if needed\n",
    "pizza_df['day_of_week'] = pizza_df['order_date'].dt.day_name()\n",
    "pizza_df['month'] = pizza_df['order_date'].dt.month_name()\n",
    "\n",
    "# Analyzing overall sales trend over time\n",
    "plt.figure(figsize=(14, 7))\n",
    "sales_over_time = pizza_df.groupby('order_date')['total_price'].sum()\n",
    "sales_over_time.plot()\n",
    "plt.title('Total Sales Over Time')\n",
    "plt.xlabel('Date')\n",
    "plt.ylabel('Total Sales')\n",
    "plt.grid()\n",
    "plt.show()\n",
    "\n",
    "# Analyzing pizza sales by category\n",
    "sales_by_category = pizza_df.groupby('pizza_category')['quantity'].sum().sort_values(ascending=False)\n",
    "plt.figure(figsize=(10, 6))\n",
    "sns.barplot(x=sales_by_category.values, y=sales_by_category.index, palette='viridis')\n",
    "plt.title('Total Sales by Pizza Category')\n",
    "plt.xlabel('Total Quantity Sold')\n",
    "plt.ylabel('Pizza Category')\n",
    "plt.show()\n",
    "\n",
    "# Analyzing sales distribution\n",
    "plt.figure(figsize=(10, 6))\n",
    "sns.histplot(pizza_df['total_price'], bins=30, kde=True)\n",
    "plt.title('Distribution of Total Price')\n",
    "plt.xlabel('Total Price')\n",
    "plt.ylabel('Frequency')\n",
    "plt.grid()\n",
    "plt.show()\n",
    "\n",
    "# Analyzing sales by day of the week\n",
    "sales_by_day = pizza_df.groupby('day_of_week')['total_price'].sum().reindex(['Monday', 'Tuesday', 'Wednesday', 'Thursday', 'Friday', 'Saturday', 'Sunday'])\n",
    "plt.figure(figsize=(10, 6))\n",
    "sns.barplot(x=sales_by_day.index, y=sales_by_day.values, palette='coolwarm')\n",
    "plt.title('Total Sales by Day of the Week')\n",
    "plt.xlabel('Day of the Week')\n",
    "plt.ylabel('Total Sales')\n",
    "plt.xticks(rotation=45)\n",
    "plt.show()\n",
    "\n",
    "# Correlation analysis for numeric features\n",
    "numeric_cols = pizza_df.select_dtypes(include=[np.number])  # Select only numeric columns\n",
    "correlation_matrix = numeric_cols.corr()\n",
    "plt.figure(figsize=(10, 6))\n",
    "sns.heatmap(correlation_matrix, annot=True, cmap='coolwarm', fmt=\".2f\")\n",
    "plt.title('Correlation Matrix')\n",
    "plt.show()\n"
   ]
  },
  {
   "cell_type": "code",
   "execution_count": 15,
   "id": "bbdea2a7",
   "metadata": {},
   "outputs": [],
   "source": [
    "from statsmodels.graphics.tsaplots import plot_acf, plot_pacf"
   ]
  },
  {
   "cell_type": "code",
   "execution_count": 16,
   "id": "e871f9d4",
   "metadata": {},
   "outputs": [
    {
     "data": {
      "image/png": "[encoded data removed]",
      "text/plain": [
       "<Figure size 864x576 with 2 Axes>"
      ]
     },
     "metadata": {
      "needs_background": "light"
     },
     "output_type": "display_data"
    }
   ],
   "source": [
    "fig = plt.figure(figsize=(12,8))\n",
    "ax1 = fig.add_subplot(211)\n",
    "fig = plot_acf(quantity_over_time, lags=40, ax=ax1)\n",
    "ax2 = fig.add_subplot(212)\n",
    "fig = plot_pacf(quantity_over_time, lags=40, ax=ax2)\n",
    "     "
   ]
  },
  {
   "cell_type": "code",
   "execution_count": 17,
   "id": "87ecda0f",
   "metadata": {},
   "outputs": [],
   "source": [
    "from statsmodels.tsa.stattools import adfuller"
   ]
  },
  {
   "cell_type": "code",
   "execution_count": 18,
   "id": "da4e7cab",
   "metadata": {},
   "outputs": [
    {
     "name": "stdout",
     "output_type": "stream",
     "text": [
      "ADF Statistic: -5.208670\n",
      "p-value: 0.000008\n",
      "# Lags used: 15\n",
      "No of observations used: 342\n",
      "we reject the null hypothesis, The series is stationary\n"
     ]
    }
   ],
   "source": [
    "# H0: it is not stationary\n",
    "# H1: it is stationary\n",
    "\n",
    "def adf_test(sales):\n",
    "    result = adfuller(sales)\n",
    "    print('ADF Statistic: %f' % result[0])\n",
    "    print('p-value: %f' % result[1])\n",
    "    print(f'# Lags used: {result[2]}')\n",
    "    print(f'No of observations used: {result[3]}')\n",
    "    if result[1] <= 0.05:\n",
    "        print('we reject the null hypothesis, The series is stationary')\n",
    "    else:\n",
    "        print('Not enough statistical evidence to reject null hypothesis, The series is not stationary')\n",
    "\n",
    "adf_test(quantity_over_time)"
   ]
  },
  {
   "cell_type": "code",
   "execution_count": 19,
   "id": "0aa1795f",
   "metadata": {},
   "outputs": [],
   "source": [
    "from statsmodels.tsa.statespace.sarimax import SARIMAX\n",
    "from statsmodels.tsa.arima.model import ARIMA\n",
    "from sklearn.metrics import mean_absolute_error, mean_squared_error"
   ]
  },
  {
   "cell_type": "code",
   "execution_count": 20,
   "id": "4d5c7e5b",
   "metadata": {},
   "outputs": [],
   "source": [
    "eval_data = pizza_df.groupby(['order_date', 'pizza_name'])['quantity'].sum().unstack().fillna(0)"
   ]
  },
  {
   "cell_type": "code",
   "execution_count": 21,
   "id": "4d8c66f8",
   "metadata": {},
   "outputs": [
    {
     "data": {
      "text/html": [
       "<div>\n",
       "<style scoped>\n",
       "    .dataframe tbody tr th:only-of-type {\n",
       "        vertical-align: middle;\n",
       "    }\n",
       "\n",
       "    .dataframe tbody tr th {\n",
       "        vertical-align: top;\n",
       "    }\n",
       "\n",
       "    .dataframe thead th {\n",
       "        text-align: right;\n",
       "    }\n",
       "</style>\n",
       "<table border=\"1\" class=\"dataframe\">\n",
       "  <thead>\n",
       "    <tr style=\"text-align: right;\">\n",
       "      <th>pizza_name</th>\n",
       "      <th>The Barbecue Chicken Pizza</th>\n",
       "      <th>The Big Meat Pizza</th>\n",
       "      <th>The Brie Carre Pizza</th>\n",
       "      <th>The Calabrese Pizza</th>\n",
       "      <th>The California Chicken Pizza</th>\n",
       "      <th>The Chicken Alfredo Pizza</th>\n",
       "      <th>The Chicken Pesto Pizza</th>\n",
       "      <th>The Classic Deluxe Pizza</th>\n",
       "      <th>The Five Cheese Pizza</th>\n",
       "      <th>The Four Cheese Pizza</th>\n",
       "      <th>...</th>\n",
       "      <th>The Prosciutto and Arugula Pizza</th>\n",
       "      <th>The Sicilian Pizza</th>\n",
       "      <th>The Soppressata Pizza</th>\n",
       "      <th>The Southwest Chicken Pizza</th>\n",
       "      <th>The Spicy Italian Pizza</th>\n",
       "      <th>The Spinach Pesto Pizza</th>\n",
       "      <th>The Spinach Supreme Pizza</th>\n",
       "      <th>The Spinach and Feta Pizza</th>\n",
       "      <th>The Thai Chicken Pizza</th>\n",
       "      <th>The Vegetables + Vegetables Pizza</th>\n",
       "    </tr>\n",
       "    <tr>\n",
       "      <th>order_date</th>\n",
       "      <th></th>\n",
       "      <th></th>\n",
       "      <th></th>\n",
       "      <th></th>\n",
       "      <th></th>\n",
       "      <th></th>\n",
       "      <th></th>\n",
       "      <th></th>\n",
       "      <th></th>\n",
       "      <th></th>\n",
       "      <th></th>\n",
       "      <th></th>\n",
       "      <th></th>\n",
       "      <th></th>\n",
       "      <th></th>\n",
       "      <th></th>\n",
       "      <th></th>\n",
       "      <th></th>\n",
       "      <th></th>\n",
       "      <th></th>\n",
       "      <th></th>\n",
       "    </tr>\n",
       "  </thead>\n",
       "  <tbody>\n",
       "    <tr>\n",
       "      <th>2015-01-01</th>\n",
       "      <td>11.0</td>\n",
       "      <td>5.0</td>\n",
       "      <td>0.0</td>\n",
       "      <td>1.0</td>\n",
       "      <td>4.0</td>\n",
       "      <td>2.0</td>\n",
       "      <td>4.0</td>\n",
       "      <td>10.0</td>\n",
       "      <td>6.0</td>\n",
       "      <td>5.0</td>\n",
       "      <td>...</td>\n",
       "      <td>4.0</td>\n",
       "      <td>4.0</td>\n",
       "      <td>0.0</td>\n",
       "      <td>7.0</td>\n",
       "      <td>5.0</td>\n",
       "      <td>2.0</td>\n",
       "      <td>5.0</td>\n",
       "      <td>2.0</td>\n",
       "      <td>7.0</td>\n",
       "      <td>3.0</td>\n",
       "    </tr>\n",
       "    <tr>\n",
       "      <th>2015-01-02</th>\n",
       "      <td>8.0</td>\n",
       "      <td>8.0</td>\n",
       "      <td>0.0</td>\n",
       "      <td>0.0</td>\n",
       "      <td>5.0</td>\n",
       "      <td>1.0</td>\n",
       "      <td>2.0</td>\n",
       "      <td>6.0</td>\n",
       "      <td>6.0</td>\n",
       "      <td>3.0</td>\n",
       "      <td>...</td>\n",
       "      <td>4.0</td>\n",
       "      <td>6.0</td>\n",
       "      <td>4.0</td>\n",
       "      <td>6.0</td>\n",
       "      <td>11.0</td>\n",
       "      <td>2.0</td>\n",
       "      <td>7.0</td>\n",
       "      <td>4.0</td>\n",
       "      <td>9.0</td>\n",
       "      <td>5.0</td>\n",
       "    </tr>\n",
       "    <tr>\n",
       "      <th>2015-01-03</th>\n",
       "      <td>7.0</td>\n",
       "      <td>8.0</td>\n",
       "      <td>0.0</td>\n",
       "      <td>1.0</td>\n",
       "      <td>11.0</td>\n",
       "      <td>5.0</td>\n",
       "      <td>3.0</td>\n",
       "      <td>5.0</td>\n",
       "      <td>4.0</td>\n",
       "      <td>7.0</td>\n",
       "      <td>...</td>\n",
       "      <td>7.0</td>\n",
       "      <td>6.0</td>\n",
       "      <td>1.0</td>\n",
       "      <td>5.0</td>\n",
       "      <td>4.0</td>\n",
       "      <td>3.0</td>\n",
       "      <td>2.0</td>\n",
       "      <td>2.0</td>\n",
       "      <td>9.0</td>\n",
       "      <td>7.0</td>\n",
       "    </tr>\n",
       "    <tr>\n",
       "      <th>2015-01-04</th>\n",
       "      <td>9.0</td>\n",
       "      <td>0.0</td>\n",
       "      <td>2.0</td>\n",
       "      <td>2.0</td>\n",
       "      <td>5.0</td>\n",
       "      <td>4.0</td>\n",
       "      <td>1.0</td>\n",
       "      <td>4.0</td>\n",
       "      <td>2.0</td>\n",
       "      <td>4.0</td>\n",
       "      <td>...</td>\n",
       "      <td>4.0</td>\n",
       "      <td>3.0</td>\n",
       "      <td>0.0</td>\n",
       "      <td>1.0</td>\n",
       "      <td>4.0</td>\n",
       "      <td>3.0</td>\n",
       "      <td>4.0</td>\n",
       "      <td>3.0</td>\n",
       "      <td>5.0</td>\n",
       "      <td>1.0</td>\n",
       "    </tr>\n",
       "    <tr>\n",
       "      <th>2015-01-05</th>\n",
       "      <td>2.0</td>\n",
       "      <td>3.0</td>\n",
       "      <td>2.0</td>\n",
       "      <td>0.0</td>\n",
       "      <td>6.0</td>\n",
       "      <td>8.0</td>\n",
       "      <td>2.0</td>\n",
       "      <td>9.0</td>\n",
       "      <td>5.0</td>\n",
       "      <td>4.0</td>\n",
       "      <td>...</td>\n",
       "      <td>2.0</td>\n",
       "      <td>5.0</td>\n",
       "      <td>2.0</td>\n",
       "      <td>3.0</td>\n",
       "      <td>2.0</td>\n",
       "      <td>4.0</td>\n",
       "      <td>2.0</td>\n",
       "      <td>2.0</td>\n",
       "      <td>6.0</td>\n",
       "      <td>2.0</td>\n",
       "    </tr>\n",
       "  </tbody>\n",
       "</table>\n",
       "<p>5 rows × 32 columns</p>\n",
       "</div>"
      ],
      "text/plain": [
       "pizza_name  The Barbecue Chicken Pizza  The Big Meat Pizza  \\\n",
       "order_date                                                   \n",
       "2015-01-01                        11.0                 5.0   \n",
       "2015-01-02                         8.0                 8.0   \n",
       "2015-01-03                         7.0                 8.0   \n",
       "2015-01-04                         9.0                 0.0   \n",
       "2015-01-05                         2.0                 3.0   \n",
       "\n",
       "pizza_name  The Brie Carre Pizza  The Calabrese Pizza  \\\n",
       "order_date                                              \n",
       "2015-01-01                   0.0                  1.0   \n",
       "2015-01-02                   0.0                  0.0   \n",
       "2015-01-03                   0.0                  1.0   \n",
       "2015-01-04                   2.0                  2.0   \n",
       "2015-01-05                   2.0                  0.0   \n",
       "\n",
       "pizza_name  The California Chicken Pizza  The Chicken Alfredo Pizza  \\\n",
       "order_date                                                            \n",
       "2015-01-01                           4.0                        2.0   \n",
       "2015-01-02                           5.0                        1.0   \n",
       "2015-01-03                          11.0                        5.0   \n",
       "2015-01-04                           5.0                        4.0   \n",
       "2015-01-05                           6.0                        8.0   \n",
       "\n",
       "pizza_name  The Chicken Pesto Pizza  The Classic Deluxe Pizza  \\\n",
       "order_date                                                      \n",
       "2015-01-01                      4.0                      10.0   \n",
       "2015-01-02                      2.0                       6.0   \n",
       "2015-01-03                      3.0                       5.0   \n",
       "2015-01-04                      1.0                       4.0   \n",
       "2015-01-05                      2.0                       9.0   \n",
       "\n",
       "pizza_name  The Five Cheese Pizza  The Four Cheese Pizza  ...  \\\n",
       "order_date                                                ...   \n",
       "2015-01-01                    6.0                    5.0  ...   \n",
       "2015-01-02                    6.0                    3.0  ...   \n",
       "2015-01-03                    4.0                    7.0  ...   \n",
       "2015-01-04                    2.0                    4.0  ...   \n",
       "2015-01-05                    5.0                    4.0  ...   \n",
       "\n",
       "pizza_name  The Prosciutto and Arugula Pizza  The Sicilian Pizza  \\\n",
       "order_date                                                         \n",
       "2015-01-01                               4.0                 4.0   \n",
       "2015-01-02                               4.0                 6.0   \n",
       "2015-01-03                               7.0                 6.0   \n",
       "2015-01-04                               4.0                 3.0   \n",
       "2015-01-05                               2.0                 5.0   \n",
       "\n",
       "pizza_name  The Soppressata Pizza  The Southwest Chicken Pizza  \\\n",
       "order_date                                                       \n",
       "2015-01-01                    0.0                          7.0   \n",
       "2015-01-02                    4.0                          6.0   \n",
       "2015-01-03                    1.0                          5.0   \n",
       "2015-01-04                    0.0                          1.0   \n",
       "2015-01-05                    2.0                          3.0   \n",
       "\n",
       "pizza_name  The Spicy Italian Pizza  The Spinach Pesto Pizza  \\\n",
       "order_date                                                     \n",
       "2015-01-01                      5.0                      2.0   \n",
       "2015-01-02                     11.0                      2.0   \n",
       "2015-01-03                      4.0                      3.0   \n",
       "2015-01-04                      4.0                      3.0   \n",
       "2015-01-05                      2.0                      4.0   \n",
       "\n",
       "pizza_name  The Spinach Supreme Pizza  The Spinach and Feta Pizza  \\\n",
       "order_date                                                          \n",
       "2015-01-01                        5.0                         2.0   \n",
       "2015-01-02                        7.0                         4.0   \n",
       "2015-01-03                        2.0                         2.0   \n",
       "2015-01-04                        4.0                         3.0   \n",
       "2015-01-05                        2.0                         2.0   \n",
       "\n",
       "pizza_name  The Thai Chicken Pizza  The Vegetables + Vegetables Pizza  \n",
       "order_date                                                             \n",
       "2015-01-01                     7.0                                3.0  \n",
       "2015-01-02                     9.0                                5.0  \n",
       "2015-01-03                     9.0                                7.0  \n",
       "2015-01-04                     5.0                                1.0  \n",
       "2015-01-05                     6.0                                2.0  \n",
       "\n",
       "[5 rows x 32 columns]"
      ]
     },
     "execution_count": 21,
     "metadata": {},
     "output_type": "execute_result"
    }
   ],
   "source": [
    "eval_data.head()"
   ]
  },
  {
   "cell_type": "code",
   "execution_count": 22,
   "id": "c15600ec",
   "metadata": {},
   "outputs": [],
   "source": [
    "one_pizza = eval_data['The Barbecue Chicken Pizza']"
   ]
  },
  {
   "cell_type": "code",
   "execution_count": 23,
   "id": "18f841d5",
   "metadata": {},
   "outputs": [],
   "source": [
    "# split train and test\n",
    "train = one_pizza[:-7]\n",
    "test = one_pizza[-7:]\n",
    "     "
   ]
  },
  {
   "cell_type": "code",
   "execution_count": 24,
   "id": "8423c593",
   "metadata": {},
   "outputs": [
    {
     "name": "stderr",
     "output_type": "stream",
     "text": [
      "C:\\Users\\LENOVO\\anaconda3\\lib\\site-packages\\statsmodels\\tsa\\base\\tsa_model.py:473: ValueWarning: A date index has been provided, but it has no associated frequency information and so will be ignored when e.g. forecasting.\n",
      "  self._init_dates(dates, freq)\n",
      "C:\\Users\\LENOVO\\anaconda3\\lib\\site-packages\\statsmodels\\tsa\\base\\tsa_model.py:473: ValueWarning: A date index has been provided, but it has no associated frequency information and so will be ignored when e.g. forecasting.\n",
      "  self._init_dates(dates, freq)\n",
      "C:\\Users\\LENOVO\\anaconda3\\lib\\site-packages\\statsmodels\\tsa\\base\\tsa_model.py:473: ValueWarning: A date index has been provided, but it has no associated frequency information and so will be ignored when e.g. forecasting.\n",
      "  self._init_dates(dates, freq)\n"
     ]
    }
   ],
   "source": [
    "# Fit Arima model\n",
    "ari_model = ARIMA(train, order=(1, 1, 0))\n",
    "ari_result = ari_model.fit()"
   ]
  },
  {
   "cell_type": "code",
   "execution_count": 25,
   "id": "357d6c58",
   "metadata": {},
   "outputs": [
    {
     "name": "stderr",
     "output_type": "stream",
     "text": [
      "C:\\Users\\LENOVO\\anaconda3\\lib\\site-packages\\statsmodels\\tsa\\base\\tsa_model.py:836: ValueWarning: No supported index is available. Prediction results will be given with an integer index beginning at `start`.\n",
      "  return get_prediction_index(\n"
     ]
    }
   ],
   "source": [
    "# forecast\n",
    "ari_forecast = ari_result.get_forecast(steps=len(test))\n",
    "ari_fore_values = ari_forecast.predicted_mean"
   ]
  },
  {
   "cell_type": "code",
   "execution_count": 26,
   "id": "432d8d64",
   "metadata": {},
   "outputs": [
    {
     "name": "stderr",
     "output_type": "stream",
     "text": [
      "C:\\Users\\LENOVO\\anaconda3\\lib\\site-packages\\statsmodels\\tsa\\base\\tsa_model.py:836: ValueWarning: No supported index is available. Prediction results will be given with an integer index beginning at `start`.\n",
      "  return get_prediction_index(\n"
     ]
    }
   ],
   "source": [
    "ari_predict = ari_result.predict(start=len(train), end=len(train)+len(test)-1, dynamic=True)"
   ]
  },
  {
   "cell_type": "code",
   "execution_count": 27,
   "id": "f3ac0f3f",
   "metadata": {},
   "outputs": [],
   "source": [
    "ari_predict.index = test.index"
   ]
  },
  {
   "cell_type": "code",
   "execution_count": 28,
   "id": "23c1eed5",
   "metadata": {},
   "outputs": [
    {
     "data": {
      "text/html": [
       "<div>\n",
       "<style scoped>\n",
       "    .dataframe tbody tr th:only-of-type {\n",
       "        vertical-align: middle;\n",
       "    }\n",
       "\n",
       "    .dataframe tbody tr th {\n",
       "        vertical-align: top;\n",
       "    }\n",
       "\n",
       "    .dataframe thead th {\n",
       "        text-align: right;\n",
       "    }\n",
       "</style>\n",
       "<table border=\"1\" class=\"dataframe\">\n",
       "  <thead>\n",
       "    <tr style=\"text-align: right;\">\n",
       "      <th></th>\n",
       "      <th>Actual</th>\n",
       "      <th>Predicted</th>\n",
       "    </tr>\n",
       "    <tr>\n",
       "      <th>order_date</th>\n",
       "      <th></th>\n",
       "      <th></th>\n",
       "    </tr>\n",
       "  </thead>\n",
       "  <tbody>\n",
       "    <tr>\n",
       "      <th>2015-12-24</th>\n",
       "      <td>4.0</td>\n",
       "      <td>4.970012</td>\n",
       "    </tr>\n",
       "    <tr>\n",
       "      <th>2015-12-26</th>\n",
       "      <td>5.0</td>\n",
       "      <td>5.500450</td>\n",
       "    </tr>\n",
       "    <tr>\n",
       "      <th>2015-12-27</th>\n",
       "      <td>4.0</td>\n",
       "      <td>5.227277</td>\n",
       "    </tr>\n",
       "    <tr>\n",
       "      <th>2015-12-28</th>\n",
       "      <td>2.0</td>\n",
       "      <td>5.367959</td>\n",
       "    </tr>\n",
       "    <tr>\n",
       "      <th>2015-12-29</th>\n",
       "      <td>4.0</td>\n",
       "      <td>5.295509</td>\n",
       "    </tr>\n",
       "    <tr>\n",
       "      <th>2015-12-30</th>\n",
       "      <td>6.0</td>\n",
       "      <td>5.332820</td>\n",
       "    </tr>\n",
       "    <tr>\n",
       "      <th>2015-12-31</th>\n",
       "      <td>10.0</td>\n",
       "      <td>5.313605</td>\n",
       "    </tr>\n",
       "  </tbody>\n",
       "</table>\n",
       "</div>"
      ],
      "text/plain": [
       "            Actual  Predicted\n",
       "order_date                   \n",
       "2015-12-24     4.0   4.970012\n",
       "2015-12-26     5.0   5.500450\n",
       "2015-12-27     4.0   5.227277\n",
       "2015-12-28     2.0   5.367959\n",
       "2015-12-29     4.0   5.295509\n",
       "2015-12-30     6.0   5.332820\n",
       "2015-12-31    10.0   5.313605"
      ]
     },
     "execution_count": 28,
     "metadata": {},
     "output_type": "execute_result"
    }
   ],
   "source": [
    "# concat test and ari_predict without changing the index of test, test is a pandas series\n",
    "\n",
    "concatenated_series = pd.concat([test, ari_predict], axis=1)\n",
    "concatenated_series.columns = ['Actual', 'Predicted']\n",
    "concatenated_series"
   ]
  },
  {
   "cell_type": "code",
   "execution_count": 29,
   "id": "5dcf9adb",
   "metadata": {},
   "outputs": [
    {
     "data": {
      "image/png": "[encoded data removed]",
      "text/plain": [
       "<Figure size 864x432 with 1 Axes>"
      ]
     },
     "metadata": {
      "needs_background": "light"
     },
     "output_type": "display_data"
    }
   ],
   "source": [
    "concatenated_series.plot(figsize=(12, 6))\n",
    "plt.xlabel('Order Date')\n",
    "plt.ylabel('Quantity Sold')\n",
    "plt.title('Actual vs. Predicted Quantity Sold for \"The Barbecue Chicken Pizza\"')\n",
    "plt.show()"
   ]
  },
  {
   "cell_type": "code",
   "execution_count": 30,
   "id": "287dfd1f",
   "metadata": {},
   "outputs": [
    {
     "name": "stdout",
     "output_type": "stream",
     "text": [
      "ARIMA MAE: 1.8163972880345898\n",
      "ARIMA MSE: 5.446642862241798\n",
      "ARIMA RMSE: 2.3338043753155056\n"
     ]
    }
   ],
   "source": [
    "# Evaluate the model\n",
    "mae = mean_absolute_error(test, ari_fore_values)\n",
    "mse = mean_squared_error(test, ari_fore_values)\n",
    "rmse = np.sqrt(mse)\n",
    "\n",
    "print(f'ARIMA MAE: {mae}')\n",
    "print(f'ARIMA MSE: {mse}')\n",
    "print(f'ARIMA RMSE: {rmse}')"
   ]
  },
  {
   "cell_type": "code",
   "execution_count": 31,
   "id": "ae2464f4",
   "metadata": {},
   "outputs": [
    {
     "name": "stderr",
     "output_type": "stream",
     "text": [
      "C:\\Users\\LENOVO\\anaconda3\\lib\\site-packages\\statsmodels\\tsa\\base\\tsa_model.py:473: ValueWarning: A date index has been provided, but it has no associated frequency information and so will be ignored when e.g. forecasting.\n",
      "  self._init_dates(dates, freq)\n",
      "C:\\Users\\LENOVO\\anaconda3\\lib\\site-packages\\statsmodels\\tsa\\base\\tsa_model.py:473: ValueWarning: A date index has been provided, but it has no associated frequency information and so will be ignored when e.g. forecasting.\n",
      "  self._init_dates(dates, freq)\n"
     ]
    }
   ],
   "source": [
    "# fit SARIMA model\n",
    "sari_model = SARIMAX(train, order=(1, 1, 1), seasonal_order=(1, 1, 1, 7))\n",
    "sari_result = sari_model.fit()"
   ]
  },
  {
   "cell_type": "code",
   "execution_count": 32,
   "id": "3aef3d2a",
   "metadata": {},
   "outputs": [
    {
     "name": "stderr",
     "output_type": "stream",
     "text": [
      "C:\\Users\\LENOVO\\anaconda3\\lib\\site-packages\\statsmodels\\tsa\\base\\tsa_model.py:836: ValueWarning: No supported index is available. Prediction results will be given with an integer index beginning at `start`.\n",
      "  return get_prediction_index(\n"
     ]
    }
   ],
   "source": [
    "# sarima forecast\n",
    "sari_forecast = sari_result.get_forecast(steps=len(test))\n",
    "sari_fore_values = sari_forecast.predicted_mean"
   ]
  },
  {
   "cell_type": "code",
   "execution_count": 33,
   "id": "f08b0a25",
   "metadata": {},
   "outputs": [
    {
     "name": "stdout",
     "output_type": "stream",
     "text": [
      "SARIMAX MAE: 2.5756664199803967\n",
      "SARIMAX MSE: 8.296204717324516\n",
      "SARIMAX RMSE: 2.880313301938613\n"
     ]
    }
   ],
   "source": [
    "# Evaluate Sarima\n",
    "mae = mean_absolute_error(test, sari_fore_values)\n",
    "mse = mean_squared_error(test, sari_fore_values)\n",
    "rmse = np.sqrt(mse)\n",
    "\n",
    "print(f'SARIMAX MAE: {mae}')\n",
    "print(f'SARIMAX MSE: {mse}')\n",
    "print(f'SARIMAX RMSE: {rmse}')"
   ]
  },
  {
   "cell_type": "code",
   "execution_count": 34,
   "id": "40257a81",
   "metadata": {},
   "outputs": [
    {
     "name": "stderr",
     "output_type": "stream",
     "text": [
      "C:\\Users\\LENOVO\\anaconda3\\lib\\site-packages\\statsmodels\\tsa\\base\\tsa_model.py:836: ValueWarning: No supported index is available. Prediction results will be given with an integer index beginning at `start`.\n",
      "  return get_prediction_index(\n"
     ]
    }
   ],
   "source": [
    "sari_predict = sari_result.predict(start=len(train), end=len(train)+len(test)-1, dynamic=True)"
   ]
  },
  {
   "cell_type": "code",
   "execution_count": 35,
   "id": "8df9c74f",
   "metadata": {},
   "outputs": [],
   "source": [
    "sari_predict.index = test.index"
   ]
  },
  {
   "cell_type": "code",
   "execution_count": 36,
   "id": "35b8bd9b",
   "metadata": {},
   "outputs": [
    {
     "data": {
      "text/plain": [
       "order_date\n",
       "2015-12-24    7.277273\n",
       "2015-12-26    7.484898\n",
       "2015-12-27    5.527104\n",
       "2015-12-28    6.337986\n",
       "2015-12-29    6.738601\n",
       "2015-12-30    5.870504\n",
       "2015-12-31    6.465693\n",
       "Name: predicted_mean, dtype: float64"
      ]
     },
     "execution_count": 36,
     "metadata": {},
     "output_type": "execute_result"
    }
   ],
   "source": [
    "sari_predict"
   ]
  },
  {
   "cell_type": "code",
   "execution_count": 37,
   "id": "019cebb3",
   "metadata": {},
   "outputs": [
    {
     "data": {
      "text/html": [
       "<div>\n",
       "<style scoped>\n",
       "    .dataframe tbody tr th:only-of-type {\n",
       "        vertical-align: middle;\n",
       "    }\n",
       "\n",
       "    .dataframe tbody tr th {\n",
       "        vertical-align: top;\n",
       "    }\n",
       "\n",
       "    .dataframe thead th {\n",
       "        text-align: right;\n",
       "    }\n",
       "</style>\n",
       "<table border=\"1\" class=\"dataframe\">\n",
       "  <thead>\n",
       "    <tr style=\"text-align: right;\">\n",
       "      <th></th>\n",
       "      <th>Actual</th>\n",
       "      <th>Predicted</th>\n",
       "    </tr>\n",
       "    <tr>\n",
       "      <th>order_date</th>\n",
       "      <th></th>\n",
       "      <th></th>\n",
       "    </tr>\n",
       "  </thead>\n",
       "  <tbody>\n",
       "    <tr>\n",
       "      <th>2015-12-24</th>\n",
       "      <td>4.0</td>\n",
       "      <td>7.277273</td>\n",
       "    </tr>\n",
       "    <tr>\n",
       "      <th>2015-12-26</th>\n",
       "      <td>5.0</td>\n",
       "      <td>7.484898</td>\n",
       "    </tr>\n",
       "    <tr>\n",
       "      <th>2015-12-27</th>\n",
       "      <td>4.0</td>\n",
       "      <td>5.527104</td>\n",
       "    </tr>\n",
       "    <tr>\n",
       "      <th>2015-12-28</th>\n",
       "      <td>2.0</td>\n",
       "      <td>6.337986</td>\n",
       "    </tr>\n",
       "    <tr>\n",
       "      <th>2015-12-29</th>\n",
       "      <td>4.0</td>\n",
       "      <td>6.738601</td>\n",
       "    </tr>\n",
       "    <tr>\n",
       "      <th>2015-12-30</th>\n",
       "      <td>6.0</td>\n",
       "      <td>5.870504</td>\n",
       "    </tr>\n",
       "    <tr>\n",
       "      <th>2015-12-31</th>\n",
       "      <td>10.0</td>\n",
       "      <td>6.465693</td>\n",
       "    </tr>\n",
       "  </tbody>\n",
       "</table>\n",
       "</div>"
      ],
      "text/plain": [
       "            Actual  Predicted\n",
       "order_date                   \n",
       "2015-12-24     4.0   7.277273\n",
       "2015-12-26     5.0   7.484898\n",
       "2015-12-27     4.0   5.527104\n",
       "2015-12-28     2.0   6.337986\n",
       "2015-12-29     4.0   6.738601\n",
       "2015-12-30     6.0   5.870504\n",
       "2015-12-31    10.0   6.465693"
      ]
     },
     "execution_count": 37,
     "metadata": {},
     "output_type": "execute_result"
    }
   ],
   "source": [
    "concatenated_sarima = pd.concat([test, sari_predict] , axis=1)\n",
    "concatenated_sarima.columns = ['Actual', 'Predicted']\n",
    "concatenated_sarima"
   ]
  },
  {
   "cell_type": "code",
   "execution_count": 38,
   "id": "1b39d7af",
   "metadata": {},
   "outputs": [
    {
     "data": {
      "image/png": "[encoded data removed]",
      "text/plain": [
       "<Figure size 864x432 with 1 Axes>"
      ]
     },
     "metadata": {
      "needs_background": "light"
     },
     "output_type": "display_data"
    }
   ],
   "source": [
    "concatenated_sarima.plot(figsize=(12, 6))\n",
    "plt.xlabel('Order Date')\n",
    "plt.ylabel('Quantity Sold')\n",
    "plt.title('Actual vs. Predicted Quantity Sold for \"The Barbecue Chicken Pizza\"')\n",
    "plt.show()"
   ]
  },
  {
   "cell_type": "code",
   "execution_count": 39,
   "id": "e944af38",
   "metadata": {},
   "outputs": [],
   "source": [
    "from prophet import Prophet"
   ]
  },
  {
   "cell_type": "code",
   "execution_count": 40,
   "id": "27254f83",
   "metadata": {},
   "outputs": [
    {
     "data": {
      "text/html": [
       "<div>\n",
       "<style scoped>\n",
       "    .dataframe tbody tr th:only-of-type {\n",
       "        vertical-align: middle;\n",
       "    }\n",
       "\n",
       "    .dataframe tbody tr th {\n",
       "        vertical-align: top;\n",
       "    }\n",
       "\n",
       "    .dataframe thead th {\n",
       "        text-align: right;\n",
       "    }\n",
       "</style>\n",
       "<table border=\"1\" class=\"dataframe\">\n",
       "  <thead>\n",
       "    <tr style=\"text-align: right;\">\n",
       "      <th></th>\n",
       "      <th>ds</th>\n",
       "      <th>y</th>\n",
       "    </tr>\n",
       "  </thead>\n",
       "  <tbody>\n",
       "    <tr>\n",
       "      <th>0</th>\n",
       "      <td>2015-01-01</td>\n",
       "      <td>11.0</td>\n",
       "    </tr>\n",
       "    <tr>\n",
       "      <th>1</th>\n",
       "      <td>2015-01-02</td>\n",
       "      <td>8.0</td>\n",
       "    </tr>\n",
       "    <tr>\n",
       "      <th>2</th>\n",
       "      <td>2015-01-03</td>\n",
       "      <td>7.0</td>\n",
       "    </tr>\n",
       "    <tr>\n",
       "      <th>3</th>\n",
       "      <td>2015-01-04</td>\n",
       "      <td>9.0</td>\n",
       "    </tr>\n",
       "    <tr>\n",
       "      <th>4</th>\n",
       "      <td>2015-01-05</td>\n",
       "      <td>2.0</td>\n",
       "    </tr>\n",
       "  </tbody>\n",
       "</table>\n",
       "</div>"
      ],
      "text/plain": [
       "          ds     y\n",
       "0 2015-01-01  11.0\n",
       "1 2015-01-02   8.0\n",
       "2 2015-01-03   7.0\n",
       "3 2015-01-04   9.0\n",
       "4 2015-01-05   2.0"
      ]
     },
     "execution_count": 40,
     "metadata": {},
     "output_type": "execute_result"
    }
   ],
   "source": [
    "one_pizza_prophet = pd.DataFrame({'ds': one_pizza.index, 'y': one_pizza.values})\n",
    "\n",
    "one_pizza_prophet.head()"
   ]
  },
  {
   "cell_type": "code",
   "execution_count": 44,
   "id": "6c7d0519",
   "metadata": {},
   "outputs": [],
   "source": [
    "pizza_df = pizza_df[['order_date', 'pizza_name', 'quantity']]"
   ]
  },
  {
   "cell_type": "code",
   "execution_count": 45,
   "id": "646fffde",
   "metadata": {},
   "outputs": [],
   "source": [
    "sales_summary = pizza_df.groupby(['order_date', 'pizza_name']).sum().reset_index()"
   ]
  },
  {
   "cell_type": "code",
   "execution_count": 46,
   "id": "b8b38871",
   "metadata": {},
   "outputs": [
    {
     "data": {
      "text/html": [
       "<div>\n",
       "<style scoped>\n",
       "    .dataframe tbody tr th:only-of-type {\n",
       "        vertical-align: middle;\n",
       "    }\n",
       "\n",
       "    .dataframe tbody tr th {\n",
       "        vertical-align: top;\n",
       "    }\n",
       "\n",
       "    .dataframe thead th {\n",
       "        text-align: right;\n",
       "    }\n",
       "</style>\n",
       "<table border=\"1\" class=\"dataframe\">\n",
       "  <thead>\n",
       "    <tr style=\"text-align: right;\">\n",
       "      <th></th>\n",
       "      <th>order_date</th>\n",
       "      <th>pizza_name</th>\n",
       "      <th>quantity</th>\n",
       "    </tr>\n",
       "  </thead>\n",
       "  <tbody>\n",
       "    <tr>\n",
       "      <th>0</th>\n",
       "      <td>2015-01-01</td>\n",
       "      <td>The Barbecue Chicken Pizza</td>\n",
       "      <td>11</td>\n",
       "    </tr>\n",
       "    <tr>\n",
       "      <th>1</th>\n",
       "      <td>2015-01-01</td>\n",
       "      <td>The Big Meat Pizza</td>\n",
       "      <td>5</td>\n",
       "    </tr>\n",
       "    <tr>\n",
       "      <th>2</th>\n",
       "      <td>2015-01-01</td>\n",
       "      <td>The Calabrese Pizza</td>\n",
       "      <td>1</td>\n",
       "    </tr>\n",
       "    <tr>\n",
       "      <th>3</th>\n",
       "      <td>2015-01-01</td>\n",
       "      <td>The California Chicken Pizza</td>\n",
       "      <td>4</td>\n",
       "    </tr>\n",
       "    <tr>\n",
       "      <th>4</th>\n",
       "      <td>2015-01-01</td>\n",
       "      <td>The Chicken Alfredo Pizza</td>\n",
       "      <td>2</td>\n",
       "    </tr>\n",
       "  </tbody>\n",
       "</table>\n",
       "</div>"
      ],
      "text/plain": [
       "  order_date                    pizza_name  quantity\n",
       "0 2015-01-01    The Barbecue Chicken Pizza        11\n",
       "1 2015-01-01            The Big Meat Pizza         5\n",
       "2 2015-01-01           The Calabrese Pizza         1\n",
       "3 2015-01-01  The California Chicken Pizza         4\n",
       "4 2015-01-01     The Chicken Alfredo Pizza         2"
      ]
     },
     "execution_count": 46,
     "metadata": {},
     "output_type": "execute_result"
    }
   ],
   "source": [
    "sales_summary.head()"
   ]
  },
  {
   "cell_type": "code",
   "execution_count": 47,
   "id": "96f2e9ca",
   "metadata": {},
   "outputs": [],
   "source": [
    "# reshape data for time series modeling\n",
    "sales_pivot = sales_summary.pivot(index='order_date', columns='pizza_name', values='quantity').fillna(0)"
   ]
  },
  {
   "cell_type": "code",
   "execution_count": 50,
   "id": "d5234f21",
   "metadata": {
    "scrolled": false
   },
   "outputs": [
    {
     "name": "stdout",
     "output_type": "stream",
     "text": [
      "ARIMA model for The Barbecue Chicken Pizza fitted successfully\n",
      "ARIMA model for The Big Meat Pizza fitted successfully\n",
      "ARIMA model for The Brie Carre Pizza fitted successfully\n",
      "ARIMA model for The Calabrese Pizza fitted successfully\n",
      "ARIMA model for The California Chicken Pizza fitted successfully\n",
      "ARIMA model for The Chicken Alfredo Pizza fitted successfully\n",
      "ARIMA model for The Chicken Pesto Pizza fitted successfully\n",
      "ARIMA model for The Classic Deluxe Pizza fitted successfully\n",
      "ARIMA model for The Five Cheese Pizza fitted successfully\n",
      "ARIMA model for The Four Cheese Pizza fitted successfully\n",
      "ARIMA model for The Greek Pizza fitted successfully\n",
      "ARIMA model for The Green Garden Pizza fitted successfully\n",
      "ARIMA model for The Hawaiian Pizza fitted successfully\n",
      "ARIMA model for The Italian Capocollo Pizza fitted successfully\n",
      "ARIMA model for The Italian Supreme Pizza fitted successfully\n",
      "ARIMA model for The Italian Vegetables Pizza fitted successfully\n",
      "ARIMA model for The Mediterranean Pizza fitted successfully\n",
      "ARIMA model for The Mexicana Pizza fitted successfully\n",
      "ARIMA model for The Napolitana Pizza fitted successfully\n",
      "ARIMA model for The Pepper Salami Pizza fitted successfully\n",
      "ARIMA model for The Pepperoni Pizza fitted successfully\n",
      "ARIMA model for The Pepperoni, Mushroom, and Peppers Pizza fitted successfully\n",
      "ARIMA model for The Prosciutto and Arugula Pizza fitted successfully\n",
      "ARIMA model for The Sicilian Pizza fitted successfully\n",
      "ARIMA model for The Soppressata Pizza fitted successfully\n",
      "ARIMA model for The Southwest Chicken Pizza fitted successfully\n",
      "ARIMA model for The Spicy Italian Pizza fitted successfully\n",
      "ARIMA model for The Spinach Pesto Pizza fitted successfully\n",
      "ARIMA model for The Spinach Supreme Pizza fitted successfully\n",
      "ARIMA model for The Spinach and Feta Pizza fitted successfully\n",
      "ARIMA model for The Thai Chicken Pizza fitted successfully\n",
      "ARIMA model for The Vegetables + Vegetables Pizza fitted successfully\n"
     ]
    }
   ],
   "source": [
    "import pandas as pd\n",
    "from statsmodels.tsa.arima.model import ARIMA\n",
    "\n",
    "# Ensure your index is a datetime index with frequency\n",
    "sales_pivot.index = pd.to_datetime(sales_pivot.index)\n",
    "\n",
    "# Attempt to infer the frequency\n",
    "sales_pivot = sales_pivot.asfreq('W')  # Example: 'W' for weekly data; use the appropriate frequency\n",
    "\n",
    "# Dictionary to store fitted ARIMA models\n",
    "arima_models = {}\n",
    "\n",
    "# Loop through each pizza and fit ARIMA model\n",
    "for pizza_name in sales_pivot.columns:\n",
    "    try:\n",
    "        # Fit ARIMA model (order can be adjusted based on your data's requirements)\n",
    "        model = ARIMA(sales_pivot[pizza_name], order=(1, 1, 0))\n",
    "        model_fit = model.fit()\n",
    "        arima_models[pizza_name] = model_fit\n",
    "        print(f'ARIMA model for {pizza_name} fitted successfully')\n",
    "    except Exception as e:\n",
    "        print(f'ARIMA model for {pizza_name} failed to fit. Error: {e}')\n"
   ]
  },
  {
   "cell_type": "code",
   "execution_count": 51,
   "id": "28a55421",
   "metadata": {},
   "outputs": [],
   "source": [
    "# Generate predictions for one week\n",
    "prediction_days = 7\n",
    "predictions_arima = {}\n",
    "\n",
    "for pizza_name, model in arima_models.items():\n",
    "    predictions_arima[pizza_name] = model.predict(start=len(sales_pivot), end=len(sales_pivot) + prediction_days - 1)"
   ]
  },
  {
   "cell_type": "code",
   "execution_count": 52,
   "id": "eb2b0c1e",
   "metadata": {},
   "outputs": [],
   "source": [
    "predictions_df = pd.DataFrame(predictions_arima)"
   ]
  },
  {
   "cell_type": "code",
   "execution_count": 53,
   "id": "818d0d4d",
   "metadata": {},
   "outputs": [],
   "source": [
    "predictions_df.index = pd.date_range(start=sales_pivot.index[-1], periods=prediction_days, freq='D')"
   ]
  },
  {
   "cell_type": "code",
   "execution_count": 54,
   "id": "35889f80",
   "metadata": {},
   "outputs": [],
   "source": [
    "ingredients_df = ingred_df[['pizza_name', 'pizza_ingredients', 'Items_Qty_In_Grams']]"
   ]
  },
  {
   "cell_type": "code",
   "execution_count": 55,
   "id": "f280c8d8",
   "metadata": {},
   "outputs": [],
   "source": [
    "# change column name to items_qty\n",
    "ingredients_df.rename(columns={'Items_Qty_In_Grams': 'items_qty'}, inplace=True)"
   ]
  },
  {
   "cell_type": "code",
   "execution_count": 56,
   "id": "ea7c93b2",
   "metadata": {},
   "outputs": [
    {
     "data": {
      "text/html": [
       "<div>\n",
       "<style scoped>\n",
       "    .dataframe tbody tr th:only-of-type {\n",
       "        vertical-align: middle;\n",
       "    }\n",
       "\n",
       "    .dataframe tbody tr th {\n",
       "        vertical-align: top;\n",
       "    }\n",
       "\n",
       "    .dataframe thead th {\n",
       "        text-align: right;\n",
       "    }\n",
       "</style>\n",
       "<table border=\"1\" class=\"dataframe\">\n",
       "  <thead>\n",
       "    <tr style=\"text-align: right;\">\n",
       "      <th></th>\n",
       "      <th>The Barbecue Chicken Pizza</th>\n",
       "      <th>The Big Meat Pizza</th>\n",
       "      <th>The Brie Carre Pizza</th>\n",
       "      <th>The Calabrese Pizza</th>\n",
       "      <th>The California Chicken Pizza</th>\n",
       "      <th>The Chicken Alfredo Pizza</th>\n",
       "      <th>The Chicken Pesto Pizza</th>\n",
       "      <th>The Classic Deluxe Pizza</th>\n",
       "      <th>The Five Cheese Pizza</th>\n",
       "      <th>The Four Cheese Pizza</th>\n",
       "      <th>...</th>\n",
       "      <th>The Prosciutto and Arugula Pizza</th>\n",
       "      <th>The Sicilian Pizza</th>\n",
       "      <th>The Soppressata Pizza</th>\n",
       "      <th>The Southwest Chicken Pizza</th>\n",
       "      <th>The Spicy Italian Pizza</th>\n",
       "      <th>The Spinach Pesto Pizza</th>\n",
       "      <th>The Spinach Supreme Pizza</th>\n",
       "      <th>The Spinach and Feta Pizza</th>\n",
       "      <th>The Thai Chicken Pizza</th>\n",
       "      <th>The Vegetables + Vegetables Pizza</th>\n",
       "    </tr>\n",
       "  </thead>\n",
       "  <tbody>\n",
       "    <tr>\n",
       "      <th>2015-12-27</th>\n",
       "      <td>8.178917</td>\n",
       "      <td>5.510756</td>\n",
       "      <td>0.371814</td>\n",
       "      <td>1.0</td>\n",
       "      <td>5.085078</td>\n",
       "      <td>1.193286</td>\n",
       "      <td>4.241997</td>\n",
       "      <td>7.426426</td>\n",
       "      <td>1.551330</td>\n",
       "      <td>2.650051</td>\n",
       "      <td>...</td>\n",
       "      <td>3.092439</td>\n",
       "      <td>3.122807</td>\n",
       "      <td>0.537763</td>\n",
       "      <td>2.0</td>\n",
       "      <td>3.161852</td>\n",
       "      <td>2.284893</td>\n",
       "      <td>2.142685</td>\n",
       "      <td>3.066621</td>\n",
       "      <td>5.0</td>\n",
       "      <td>5.936878</td>\n",
       "    </tr>\n",
       "    <tr>\n",
       "      <th>2015-12-28</th>\n",
       "      <td>5.995999</td>\n",
       "      <td>5.249884</td>\n",
       "      <td>0.766432</td>\n",
       "      <td>1.0</td>\n",
       "      <td>3.998190</td>\n",
       "      <td>0.718642</td>\n",
       "      <td>3.470719</td>\n",
       "      <td>7.755413</td>\n",
       "      <td>1.752635</td>\n",
       "      <td>3.561232</td>\n",
       "      <td>...</td>\n",
       "      <td>1.997864</td>\n",
       "      <td>3.507541</td>\n",
       "      <td>0.751426</td>\n",
       "      <td>2.0</td>\n",
       "      <td>3.513098</td>\n",
       "      <td>2.540582</td>\n",
       "      <td>1.489820</td>\n",
       "      <td>2.212437</td>\n",
       "      <td>5.0</td>\n",
       "      <td>7.813421</td>\n",
       "    </tr>\n",
       "    <tr>\n",
       "      <th>2015-12-29</th>\n",
       "      <td>7.136278</td>\n",
       "      <td>5.383126</td>\n",
       "      <td>0.518538</td>\n",
       "      <td>1.0</td>\n",
       "      <td>4.564752</td>\n",
       "      <td>0.907437</td>\n",
       "      <td>3.949681</td>\n",
       "      <td>7.566714</td>\n",
       "      <td>1.662315</td>\n",
       "      <td>2.946208</td>\n",
       "      <td>...</td>\n",
       "      <td>2.570447</td>\n",
       "      <td>3.338798</td>\n",
       "      <td>0.652663</td>\n",
       "      <td>2.0</td>\n",
       "      <td>3.365900</td>\n",
       "      <td>2.449159</td>\n",
       "      <td>1.862830</td>\n",
       "      <td>2.565492</td>\n",
       "      <td>5.0</td>\n",
       "      <td>6.663805</td>\n",
       "    </tr>\n",
       "    <tr>\n",
       "      <th>2015-12-30</th>\n",
       "      <td>6.540636</td>\n",
       "      <td>5.315072</td>\n",
       "      <td>0.674261</td>\n",
       "      <td>1.0</td>\n",
       "      <td>4.269421</td>\n",
       "      <td>0.832342</td>\n",
       "      <td>3.652246</td>\n",
       "      <td>7.674947</td>\n",
       "      <td>1.702839</td>\n",
       "      <td>3.361334</td>\n",
       "      <td>...</td>\n",
       "      <td>2.270923</td>\n",
       "      <td>3.412808</td>\n",
       "      <td>0.698315</td>\n",
       "      <td>2.0</td>\n",
       "      <td>3.427587</td>\n",
       "      <td>2.481848</td>\n",
       "      <td>1.649714</td>\n",
       "      <td>2.419565</td>\n",
       "      <td>5.0</td>\n",
       "      <td>7.368088</td>\n",
       "    </tr>\n",
       "    <tr>\n",
       "      <th>2015-12-31</th>\n",
       "      <td>6.851778</td>\n",
       "      <td>5.349831</td>\n",
       "      <td>0.576438</td>\n",
       "      <td>1.0</td>\n",
       "      <td>4.423368</td>\n",
       "      <td>0.862212</td>\n",
       "      <td>3.836953</td>\n",
       "      <td>7.612868</td>\n",
       "      <td>1.684657</td>\n",
       "      <td>3.081134</td>\n",
       "      <td>...</td>\n",
       "      <td>2.427607</td>\n",
       "      <td>3.380348</td>\n",
       "      <td>0.677213</td>\n",
       "      <td>2.0</td>\n",
       "      <td>3.401735</td>\n",
       "      <td>2.470160</td>\n",
       "      <td>1.771476</td>\n",
       "      <td>2.479880</td>\n",
       "      <td>5.0</td>\n",
       "      <td>6.936627</td>\n",
       "    </tr>\n",
       "    <tr>\n",
       "      <th>2016-01-01</th>\n",
       "      <td>6.689249</td>\n",
       "      <td>5.332078</td>\n",
       "      <td>0.637889</td>\n",
       "      <td>1.0</td>\n",
       "      <td>4.343120</td>\n",
       "      <td>0.850331</td>\n",
       "      <td>3.722250</td>\n",
       "      <td>7.648475</td>\n",
       "      <td>1.692815</td>\n",
       "      <td>3.270262</td>\n",
       "      <td>...</td>\n",
       "      <td>2.345644</td>\n",
       "      <td>3.394585</td>\n",
       "      <td>0.686967</td>\n",
       "      <td>2.0</td>\n",
       "      <td>3.412569</td>\n",
       "      <td>2.474339</td>\n",
       "      <td>1.701908</td>\n",
       "      <td>2.454951</td>\n",
       "      <td>5.0</td>\n",
       "      <td>7.200951</td>\n",
       "    </tr>\n",
       "    <tr>\n",
       "      <th>2016-01-02</th>\n",
       "      <td>6.774148</td>\n",
       "      <td>5.341145</td>\n",
       "      <td>0.599287</td>\n",
       "      <td>1.0</td>\n",
       "      <td>4.384951</td>\n",
       "      <td>0.855057</td>\n",
       "      <td>3.793480</td>\n",
       "      <td>7.628052</td>\n",
       "      <td>1.689155</td>\n",
       "      <td>3.142605</td>\n",
       "      <td>...</td>\n",
       "      <td>2.388520</td>\n",
       "      <td>3.388340</td>\n",
       "      <td>0.682459</td>\n",
       "      <td>2.0</td>\n",
       "      <td>3.408029</td>\n",
       "      <td>2.472845</td>\n",
       "      <td>1.741655</td>\n",
       "      <td>2.465255</td>\n",
       "      <td>5.0</td>\n",
       "      <td>7.039020</td>\n",
       "    </tr>\n",
       "  </tbody>\n",
       "</table>\n",
       "<p>7 rows × 32 columns</p>\n",
       "</div>"
      ],
      "text/plain": [
       "            The Barbecue Chicken Pizza  The Big Meat Pizza  \\\n",
       "2015-12-27                    8.178917            5.510756   \n",
       "2015-12-28                    5.995999            5.249884   \n",
       "2015-12-29                    7.136278            5.383126   \n",
       "2015-12-30                    6.540636            5.315072   \n",
       "2015-12-31                    6.851778            5.349831   \n",
       "2016-01-01                    6.689249            5.332078   \n",
       "2016-01-02                    6.774148            5.341145   \n",
       "\n",
       "            The Brie Carre Pizza  The Calabrese Pizza  \\\n",
       "2015-12-27              0.371814                  1.0   \n",
       "2015-12-28              0.766432                  1.0   \n",
       "2015-12-29              0.518538                  1.0   \n",
       "2015-12-30              0.674261                  1.0   \n",
       "2015-12-31              0.576438                  1.0   \n",
       "2016-01-01              0.637889                  1.0   \n",
       "2016-01-02              0.599287                  1.0   \n",
       "\n",
       "            The California Chicken Pizza  The Chicken Alfredo Pizza  \\\n",
       "2015-12-27                      5.085078                   1.193286   \n",
       "2015-12-28                      3.998190                   0.718642   \n",
       "2015-12-29                      4.564752                   0.907437   \n",
       "2015-12-30                      4.269421                   0.832342   \n",
       "2015-12-31                      4.423368                   0.862212   \n",
       "2016-01-01                      4.343120                   0.850331   \n",
       "2016-01-02                      4.384951                   0.855057   \n",
       "\n",
       "            The Chicken Pesto Pizza  The Classic Deluxe Pizza  \\\n",
       "2015-12-27                 4.241997                  7.426426   \n",
       "2015-12-28                 3.470719                  7.755413   \n",
       "2015-12-29                 3.949681                  7.566714   \n",
       "2015-12-30                 3.652246                  7.674947   \n",
       "2015-12-31                 3.836953                  7.612868   \n",
       "2016-01-01                 3.722250                  7.648475   \n",
       "2016-01-02                 3.793480                  7.628052   \n",
       "\n",
       "            The Five Cheese Pizza  The Four Cheese Pizza  ...  \\\n",
       "2015-12-27               1.551330               2.650051  ...   \n",
       "2015-12-28               1.752635               3.561232  ...   \n",
       "2015-12-29               1.662315               2.946208  ...   \n",
       "2015-12-30               1.702839               3.361334  ...   \n",
       "2015-12-31               1.684657               3.081134  ...   \n",
       "2016-01-01               1.692815               3.270262  ...   \n",
       "2016-01-02               1.689155               3.142605  ...   \n",
       "\n",
       "            The Prosciutto and Arugula Pizza  The Sicilian Pizza  \\\n",
       "2015-12-27                          3.092439            3.122807   \n",
       "2015-12-28                          1.997864            3.507541   \n",
       "2015-12-29                          2.570447            3.338798   \n",
       "2015-12-30                          2.270923            3.412808   \n",
       "2015-12-31                          2.427607            3.380348   \n",
       "2016-01-01                          2.345644            3.394585   \n",
       "2016-01-02                          2.388520            3.388340   \n",
       "\n",
       "            The Soppressata Pizza  The Southwest Chicken Pizza  \\\n",
       "2015-12-27               0.537763                          2.0   \n",
       "2015-12-28               0.751426                          2.0   \n",
       "2015-12-29               0.652663                          2.0   \n",
       "2015-12-30               0.698315                          2.0   \n",
       "2015-12-31               0.677213                          2.0   \n",
       "2016-01-01               0.686967                          2.0   \n",
       "2016-01-02               0.682459                          2.0   \n",
       "\n",
       "            The Spicy Italian Pizza  The Spinach Pesto Pizza  \\\n",
       "2015-12-27                 3.161852                 2.284893   \n",
       "2015-12-28                 3.513098                 2.540582   \n",
       "2015-12-29                 3.365900                 2.449159   \n",
       "2015-12-30                 3.427587                 2.481848   \n",
       "2015-12-31                 3.401735                 2.470160   \n",
       "2016-01-01                 3.412569                 2.474339   \n",
       "2016-01-02                 3.408029                 2.472845   \n",
       "\n",
       "            The Spinach Supreme Pizza  The Spinach and Feta Pizza  \\\n",
       "2015-12-27                   2.142685                    3.066621   \n",
       "2015-12-28                   1.489820                    2.212437   \n",
       "2015-12-29                   1.862830                    2.565492   \n",
       "2015-12-30                   1.649714                    2.419565   \n",
       "2015-12-31                   1.771476                    2.479880   \n",
       "2016-01-01                   1.701908                    2.454951   \n",
       "2016-01-02                   1.741655                    2.465255   \n",
       "\n",
       "            The Thai Chicken Pizza  The Vegetables + Vegetables Pizza  \n",
       "2015-12-27                     5.0                           5.936878  \n",
       "2015-12-28                     5.0                           7.813421  \n",
       "2015-12-29                     5.0                           6.663805  \n",
       "2015-12-30                     5.0                           7.368088  \n",
       "2015-12-31                     5.0                           6.936627  \n",
       "2016-01-01                     5.0                           7.200951  \n",
       "2016-01-02                     5.0                           7.039020  \n",
       "\n",
       "[7 rows x 32 columns]"
      ]
     },
     "execution_count": 56,
     "metadata": {},
     "output_type": "execute_result"
    }
   ],
   "source": [
    "predictions_df"
   ]
  },
  {
   "cell_type": "code",
   "execution_count": 57,
   "id": "f4f2542d",
   "metadata": {},
   "outputs": [
    {
     "data": {
      "text/html": [
       "<div>\n",
       "<style scoped>\n",
       "    .dataframe tbody tr th:only-of-type {\n",
       "        vertical-align: middle;\n",
       "    }\n",
       "\n",
       "    .dataframe tbody tr th {\n",
       "        vertical-align: top;\n",
       "    }\n",
       "\n",
       "    .dataframe thead th {\n",
       "        text-align: right;\n",
       "    }\n",
       "</style>\n",
       "<table border=\"1\" class=\"dataframe\">\n",
       "  <thead>\n",
       "    <tr style=\"text-align: right;\">\n",
       "      <th></th>\n",
       "      <th>pizza_name</th>\n",
       "      <th>pizza_ingredients</th>\n",
       "      <th>items_qty</th>\n",
       "    </tr>\n",
       "  </thead>\n",
       "  <tbody>\n",
       "    <tr>\n",
       "      <th>0</th>\n",
       "      <td>The Barbecue Chicken Pizza</td>\n",
       "      <td>Barbecued Chicken</td>\n",
       "      <td>40.0</td>\n",
       "    </tr>\n",
       "    <tr>\n",
       "      <th>1</th>\n",
       "      <td>The Barbecue Chicken Pizza</td>\n",
       "      <td>Red Peppers</td>\n",
       "      <td>15.0</td>\n",
       "    </tr>\n",
       "    <tr>\n",
       "      <th>2</th>\n",
       "      <td>The Barbecue Chicken Pizza</td>\n",
       "      <td>Green Peppers</td>\n",
       "      <td>20.0</td>\n",
       "    </tr>\n",
       "    <tr>\n",
       "      <th>3</th>\n",
       "      <td>The Barbecue Chicken Pizza</td>\n",
       "      <td>Tomatoes</td>\n",
       "      <td>30.0</td>\n",
       "    </tr>\n",
       "    <tr>\n",
       "      <th>4</th>\n",
       "      <td>The Barbecue Chicken Pizza</td>\n",
       "      <td>Red Onions</td>\n",
       "      <td>60.0</td>\n",
       "    </tr>\n",
       "  </tbody>\n",
       "</table>\n",
       "</div>"
      ],
      "text/plain": [
       "                   pizza_name  pizza_ingredients  items_qty\n",
       "0  The Barbecue Chicken Pizza  Barbecued Chicken       40.0\n",
       "1  The Barbecue Chicken Pizza        Red Peppers       15.0\n",
       "2  The Barbecue Chicken Pizza      Green Peppers       20.0\n",
       "3  The Barbecue Chicken Pizza           Tomatoes       30.0\n",
       "4  The Barbecue Chicken Pizza         Red Onions       60.0"
      ]
     },
     "execution_count": 57,
     "metadata": {},
     "output_type": "execute_result"
    }
   ],
   "source": [
    "ingredients_df.head()\n",
    "     "
   ]
  },
  {
   "cell_type": "code",
   "execution_count": 59,
   "id": "6ccd7cb0",
   "metadata": {},
   "outputs": [],
   "source": [
    "# Create a dictionary to store the ingredient quantities\n",
    "ingredient_quantities = {}\n",
    "\n",
    "# Iterate through each pizza in the predictions\n",
    "for pizza_name in predictions_df.columns:\n",
    "  # Get the predicted quantity for the pizza\n",
    "  predicted_quantity = predictions_df[pizza_name].sum()\n",
    "\n",
    "  # Get the ingredients for the pizza\n",
    "  pizza_ingredients = ingredients_df[ingredients_df['pizza_name'] == pizza_name]\n",
    "\n",
    "  # Iterate through each ingredient for the pizza\n",
    "  for index, row in pizza_ingredients.iterrows():\n",
    "    ingredient = row['pizza_ingredients']\n",
    "    ingredient_qty = row['items_qty']\n",
    "\n",
    "    # Calculate the required quantity of the ingredient\n",
    "    required_quantity = predicted_quantity * ingredient_qty\n",
    "\n",
    "    # Add the required quantity to the dictionary\n",
    "    if ingredient not in ingredient_quantities:\n",
    "        ingredient_quantities[ingredient] = 0\n",
    "    ingredient_quantities[ingredient] += required_quantity"
   ]
  },
  {
   "cell_type": "code",
   "execution_count": 61,
   "id": "f0d08a31",
   "metadata": {},
   "outputs": [],
   "source": [
    "# Create a DataFrame from the ingredient quantities\n",
    "ingredient_requirements_df = pd.DataFrame.from_dict(ingredient_quantities, orient='index', columns=['required_quantity'])"
   ]
  },
  {
   "cell_type": "code",
   "execution_count": 62,
   "id": "65203567",
   "metadata": {},
   "outputs": [
    {
     "data": {
      "text/html": [
       "<div>\n",
       "<style scoped>\n",
       "    .dataframe tbody tr th:only-of-type {\n",
       "        vertical-align: middle;\n",
       "    }\n",
       "\n",
       "    .dataframe tbody tr th {\n",
       "        vertical-align: top;\n",
       "    }\n",
       "\n",
       "    .dataframe thead th {\n",
       "        text-align: right;\n",
       "    }\n",
       "</style>\n",
       "<table border=\"1\" class=\"dataframe\">\n",
       "  <thead>\n",
       "    <tr style=\"text-align: right;\">\n",
       "      <th></th>\n",
       "      <th>required_quantity</th>\n",
       "    </tr>\n",
       "  </thead>\n",
       "  <tbody>\n",
       "    <tr>\n",
       "      <th>Barbecued Chicken</th>\n",
       "      <td>4335.030393</td>\n",
       "    </tr>\n",
       "    <tr>\n",
       "      <th>Red Peppers</th>\n",
       "      <td>8900.950449</td>\n",
       "    </tr>\n",
       "    <tr>\n",
       "      <th>Green Peppers</th>\n",
       "      <td>6262.858060</td>\n",
       "    </tr>\n",
       "    <tr>\n",
       "      <th>Tomatoes</th>\n",
       "      <td>27646.058145</td>\n",
       "    </tr>\n",
       "    <tr>\n",
       "      <th>Red Onions</th>\n",
       "      <td>40808.941291</td>\n",
       "    </tr>\n",
       "    <tr>\n",
       "      <th>...</th>\n",
       "      <td>...</td>\n",
       "    </tr>\n",
       "    <tr>\n",
       "      <th>Luganega Sausage</th>\n",
       "      <td>2825.427205</td>\n",
       "    </tr>\n",
       "    <tr>\n",
       "      <th>Onions</th>\n",
       "      <td>1412.713603</td>\n",
       "    </tr>\n",
       "    <tr>\n",
       "      <th>Soppressata Salami</th>\n",
       "      <td>1406.042109</td>\n",
       "    </tr>\n",
       "    <tr>\n",
       "      <th>Peperoncini verdi</th>\n",
       "      <td>710.723107</td>\n",
       "    </tr>\n",
       "    <tr>\n",
       "      <th>Thai Sweet Chilli Sauce</th>\n",
       "      <td>2100.000000</td>\n",
       "    </tr>\n",
       "  </tbody>\n",
       "</table>\n",
       "<p>64 rows × 1 columns</p>\n",
       "</div>"
      ],
      "text/plain": [
       "                         required_quantity\n",
       "Barbecued Chicken              4335.030393\n",
       "Red Peppers                    8900.950449\n",
       "Green Peppers                  6262.858060\n",
       "Tomatoes                      27646.058145\n",
       "Red Onions                    40808.941291\n",
       "...                                    ...\n",
       "Luganega Sausage               2825.427205\n",
       "Onions                         1412.713603\n",
       "Soppressata Salami             1406.042109\n",
       "Peperoncini verdi               710.723107\n",
       "Thai Sweet Chilli Sauce        2100.000000\n",
       "\n",
       "[64 rows x 1 columns]"
      ]
     },
     "execution_count": 62,
     "metadata": {},
     "output_type": "execute_result"
    }
   ],
   "source": [
    "# Print the ingredient requirements\n",
    "ingredient_requirements_df\n",
    "     "
   ]
  },
  {
   "cell_type": "code",
   "execution_count": 63,
   "id": "48bfdd0a",
   "metadata": {},
   "outputs": [
    {
     "name": "stdout",
     "output_type": "stream",
     "text": [
      "Purchase Order:\n",
      "----------------\n",
      "                                quantity   unit\n",
      "Barbecued Chicken            4335.030393  grams\n",
      "Red Peppers                  8900.950449  grams\n",
      "Green Peppers                6262.858060  grams\n",
      "Tomatoes                    27646.058145  grams\n",
      "Red Onions                  40808.941291  grams\n",
      "Barbecue Sauce               1445.010131  grams\n",
      "Bacon                       20016.765369  grams\n",
      "Pepperoni                   16793.615090  grams\n",
      "Italian Sausage               374.818922  grams\n",
      "Chorizo Sausage              1874.094609  grams\n",
      "Brie Carre Cheese             124.339791  grams\n",
      "Prosciutto                    124.339791  grams\n",
      "Caramelized Onions                   NaN  grams\n",
      "Pears                          41.446597  grams\n",
      "Thyme                          20.723298  grams\n",
      "Garlic                      13125.491595  grams\n",
      "?duja Salami                  840.000000  grams\n",
      "Pancetta                     1260.000000  grams\n",
      "Friggitello Peppers           210.000000  grams\n",
      "Chicken                     33886.653612  grams\n",
      "Artichokes                   4675.059456  grams\n",
      "Spinach                     14679.852519  grams\n",
      "Jalapeno Peppers             1819.317237  grams\n",
      "Fontina Cheese               2145.341158  grams\n",
      "Gouda Cheese                 1864.132736  grams\n",
      "Mushrooms                   18239.178367  grams\n",
      "Asiago Cheese                2519.791908  grams\n",
      "Alfredo Sauce                 279.868780  grams\n",
      "Pesto Sauce                  3517.694339  grams\n",
      "Mozzarella Cheese            5659.521879  grams\n",
      "Provolone Cheese              352.072376  grams\n",
      "Smoked Gouda Cheese           352.072376  grams\n",
      "Romano Cheese                 352.072376  grams\n",
      "Blue Cheese                   352.072376  grams\n",
      "Ricotta Cheese               1650.961945  grams\n",
      "Gorgonzola Piccante Cheese   1320.769556  grams\n",
      "Parmigiano Reggiano Cheese   3301.923890  grams\n",
      "Kalamata Olives              2297.414024  grams\n",
      "Feta Cheese                  6872.148191  grams\n",
      "Beef Chuck Roast            13545.666651  grams\n",
      "Green Olives                 2416.465454  grams\n",
      "Sliced Ham                           NaN  grams\n",
      "Pineapple                    6495.836816  grams\n",
      "Capocollo                   31601.663502  grams\n",
      "Goat Cheese                  6924.201764  grams\n",
      "Oregano                      1020.327334  grams\n",
      "Calabrese Salami             7266.018016  grams\n",
      "Eggplant                     1774.450411  grams\n",
      "Zucchini                     3824.752570  grams\n",
      "Sun-dried Tomatoes            659.501566  grams\n",
      "Plum Tomatoes                 577.147223  grams\n",
      "Cilantro                      887.250868  grams\n",
      "Corn                         5915.005789  grams\n",
      "Chipotle Sauce               1774.501737  grams\n",
      "Anchovies                    2412.024530  grams\n",
      "Genoa Salami                 4215.084646  grams\n",
      "Prosciutto di San Daniele    1196.540989  grams\n",
      "Arugula                       512.803281  grams\n",
      "Coarse Sicilian Salami       5650.854411  grams\n",
      "Luganega Sausage             2825.427205  grams\n",
      "Onions                       1412.713603  grams\n",
      "Soppressata Salami           1406.042109  grams\n",
      "Peperoncini verdi             710.723107  grams\n",
      "Thai Sweet Chilli Sauce      2100.000000  grams\n"
     ]
    }
   ],
   "source": [
    "# Create a purchase order DataFrame\n",
    "purchase_order_df = ingredient_requirements_df.copy()\n",
    "\n",
    "# Add a column for the unit of measure (assuming all ingredients are in grams)\n",
    "purchase_order_df['unit'] = 'grams'\n",
    "\n",
    "# Rename the columns for better readability\n",
    "purchase_order_df = purchase_order_df.rename(columns={'required_quantity': 'quantity'})\n",
    "\n",
    "# Add a header to the purchase order\n",
    "print('Purchase Order:')\n",
    "print('----------------')\n",
    "\n",
    "# Print the purchase order table\n",
    "print(purchase_order_df.to_string())\n"
   ]
  },
  {
   "cell_type": "code",
   "execution_count": 70,
   "id": "55c658cb",
   "metadata": {},
   "outputs": [
    {
     "name": "stdout",
     "output_type": "stream",
     "text": [
      "MAPE: 0.46%\n"
     ]
    },
    {
     "name": "stderr",
     "output_type": "stream",
     "text": [
      "C:\\Users\\LENOVO\\anaconda3\\lib\\site-packages\\statsmodels\\tsa\\base\\tsa_model.py:836: ValueWarning: No supported index is available. Prediction results will be given with an integer index beginning at `start`.\n",
      "  return get_prediction_index(\n"
     ]
    }
   ],
   "source": [
    "from sklearn.metrics import mean_absolute_percentage_error\n",
    "\n",
    "# Assuming you have the predicted and actual values\n",
    "# actual_values: Actual sales values for the test set\n",
    "# predicted_values: Predicted sales values from your ARIMA model\n",
    "\n",
    "# Example of predicted values from the ARIMA model\n",
    "predicted_values = ari_result.forecast(steps=len(test))\n",
    "actual_values = test\n",
    "\n",
    "# Calculating MAPE\n",
    "mape = mean_absolute_percentage_error(actual_values, predicted_values)\n",
    "print(f'MAPE: {mape:.2f}%')\n"
   ]
  },
  {
   "cell_type": "code",
   "execution_count": null,
   "id": "cbdb53d1",
   "metadata": {},
   "outputs": [],
   "source": []
  },
  {
   "cell_type": "code",
   "execution_count": null,
   "id": "cdc77857",
   "metadata": {},
   "outputs": [],
   "source": []
  }
 ],
 "metadata": {
  "kernelspec": {
   "display_name": "Python 3",
   "language": "python",
   "name": "python3"
  },
  "language_info": {
   "codemirror_mode": {
    "name": "ipython",
    "version": 3
   },
   "file_extension": ".py",
   "mimetype": "text/x-python",
   "name": "python",
   "nbconvert_exporter": "python",
   "pygments_lexer": "ipython3",
   "version": "3.8.8"
  }
 },
 "nbformat": 4,
 "nbformat_minor": 5
}
